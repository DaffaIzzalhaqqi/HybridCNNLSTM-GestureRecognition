{
 "cells": [
  {
   "cell_type": "code",
   "execution_count": 1,
   "id": "18b1ffee",
   "metadata": {},
   "outputs": [],
   "source": [
    "import os\n",
    "import random\n",
    "import shutil\n",
    "\n",
    "# Define the source directory where the images are saved\n",
    "source_dir = \"/Users/daffaizzalhaqqi/Desktop/Seminar Proposal Skripsi Daffa/Skripsi/Data Collection/Training\"\n",
    "\n",
    "# Define the destination directory where the new directories will be created\n",
    "dest_dir = \"/Users/daffaizzalhaqqi/Desktop/Seminar Proposal Skripsi Daffa/Skripsi/Data Collection/Testing\"\n",
    "\n",
    "# Define the letters to create directories for\n",
    "letters = ['A', 'B', 'C', 'D', 'E', 'F', 'G', 'H', 'I',\n",
    "          'K', 'L', 'M', 'N', 'O', 'P', 'Q', 'S', 'T',\n",
    "          'U', 'V', 'W', 'X', 'Z']\n",
    "\n",
    "# Define the number of images to move for each letter\n",
    "num_images = 199\n",
    "\n",
    "# Loop over the letters\n",
    "for letter in letters:\n",
    "    \n",
    "    # Create a directory for the letter in the destination directory\n",
    "    os.makedirs(os.path.join(dest_dir, letter), exist_ok=True)\n",
    "    \n",
    "    # Define the source directory for the letter\n",
    "    letter_dir = os.path.join(source_dir, letter)\n",
    "    \n",
    "    # Define the destination directory for the letter\n",
    "    letter_dest_dir = os.path.join(dest_dir, letter)\n",
    "    \n",
    "    # Get the list of image files in the source directory for the letter\n",
    "    image_files = os.listdir(letter_dir)\n",
    "    \n",
    "    # Randomly select num_images images\n",
    "    selected_images = random.sample(image_files, num_images)\n",
    "    \n",
    "    # Loop over the selected images\n",
    "    for image_file in selected_images:\n",
    "        \n",
    "        # Define the source file path\n",
    "        file_path = os.path.join(letter_dir, image_file)\n",
    "        \n",
    "        # Define the destination file path\n",
    "        dest_file_path = os.path.join(letter_dest_dir, image_file)\n",
    "        \n",
    "        # Move the file from the source directory to the destination directory\n",
    "        shutil.move(file_path, dest_file_path)"
   ]
  },
  {
   "cell_type": "code",
   "execution_count": null,
   "id": "a4f940cd",
   "metadata": {},
   "outputs": [],
   "source": []
  }
 ],
 "metadata": {
  "kernelspec": {
   "display_name": "Python 3 (ipykernel)",
   "language": "python",
   "name": "python3"
  },
  "language_info": {
   "codemirror_mode": {
    "name": "ipython",
    "version": 3
   },
   "file_extension": ".py",
   "mimetype": "text/x-python",
   "name": "python",
   "nbconvert_exporter": "python",
   "pygments_lexer": "ipython3",
   "version": "3.10.9"
  }
 },
 "nbformat": 4,
 "nbformat_minor": 5
}
